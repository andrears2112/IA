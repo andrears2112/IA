{
  "cells": [
    {
      "cell_type": "markdown",
      "metadata": {
        "id": "view-in-github",
        "colab_type": "text"
      },
      "source": [
        "<a href=\"https://colab.research.google.com/github/andrears2112/IA/blob/main/ejemplo_perceptron.ipynb\" target=\"_parent\"><img src=\"https://colab.research.google.com/assets/colab-badge.svg\" alt=\"Open In Colab\"/></a>"
      ]
    },
    {
      "cell_type": "code",
      "source": [
        "import numpy as np"
      ],
      "metadata": {
        "id": "RprWa25OES-i"
      },
      "execution_count": 1,
      "outputs": []
    },
    {
      "cell_type": "code",
      "source": [
        "def unit_step(x):\n",
        "  if x < 0:\n",
        "    return 0\n",
        "  else:\n",
        "    return 1"
      ],
      "metadata": {
        "id": "dE4a1svhiHbq"
      },
      "execution_count": 30,
      "outputs": []
    },
    {
      "cell_type": "code",
      "source": [
        "#Clasificacion como compuerta OR\n",
        "inputs = np.array([[0,0],[0,1],[1,0],[1,1]])\n",
        "targets = np.array([0,1,1,1])\n",
        "outputs = np.zeros(len(targets), dtype=int)\n",
        "weights = np.array([4,2])\n",
        "bias = -1"
      ],
      "metadata": {
        "id": "NOlKGBVOiXdq"
      },
      "execution_count": 43,
      "outputs": []
    },
    {
      "cell_type": "code",
      "source": [
        "for i in range(targets.shape[0]):\n",
        "  h = np.dot(inputs[i], weights) + bias\n",
        "  outputs[i] = unit_step(h)"
      ],
      "metadata": {
        "id": "eY_Je1nkj0Xo"
      },
      "execution_count": 44,
      "outputs": []
    },
    {
      "cell_type": "code",
      "source": [
        "print(\"Salidas del perceptrón:\")\n",
        "print(\"{:<8} {:<8} {:<20} {:<8} {:<8}\".format('Input 1', 'Input 2', 'Combinacion lineal', 'Target', 'Output'))\n",
        "for i in range(4):\n",
        "    input1, input2 = inputs[i]\n",
        "    combination = np.dot(inputs[i], weights) + bias\n",
        "    target = targets[i]\n",
        "    output = outputs[i]\n",
        "    print('{:<8} {:<8} {:<20} {:<8} {:<8}'.format(input1, input2, combination, target, output))"
      ],
      "metadata": {
        "id": "IfTklnCgkWT5",
        "outputId": "dd1f458a-521d-46d3-804a-4d55bf64c6a1",
        "colab": {
          "base_uri": "https://localhost:8080/"
        }
      },
      "execution_count": 45,
      "outputs": [
        {
          "output_type": "stream",
          "name": "stdout",
          "text": [
            "Salidas del perceptrón:\n",
            "Input 1  Input 2  Combinacion lineal   Target   Output  \n",
            "0        0        -1                   0        0       \n",
            "0        1        1                    1        1       \n",
            "1        0        3                    1        1       \n",
            "1        1        5                    1        1       \n"
          ]
        }
      ]
    },
    {
      "cell_type": "code",
      "source": [
        "#Clasificacion como compuerta AND\n",
        "inputs = np.array([[0,0], [0,1], [1,0], [1,1]])\n",
        "targets = np.array([0,1,1,1])\n",
        "outputs = np.zeros(len(targets), dtype=int)\n",
        "weights = np.array([0.9,0.1])\n",
        "bias = -1"
      ],
      "metadata": {
        "id": "0qmmSzpporPO"
      },
      "execution_count": 40,
      "outputs": []
    },
    {
      "cell_type": "code",
      "source": [
        "for i in range(targets.shape[0]):\n",
        "  h = np.dot(inputs[i], weights) + bias\n",
        "  outputs[i] = unit_step(h)"
      ],
      "metadata": {
        "id": "R297XN7Upah4"
      },
      "execution_count": 41,
      "outputs": []
    },
    {
      "cell_type": "code",
      "source": [
        "print(\"Salidas del perceptrón:\")\n",
        "print(\"{:<8} {:<8} {:<20} {:<8} {:<8}\".format('Input 1', 'Input 2', 'Combinacion lineal', 'Target', 'Output'))\n",
        "for i in range(4):\n",
        "    input1, input2 = inputs[i]\n",
        "    combination = np.dot(inputs[i], weights) + bias\n",
        "    target = targets[i]\n",
        "    output = outputs[i]\n",
        "    print('{:<8} {:<8} {:<20} {:<8} {:<8}'.format(input1, input2, combination, target, output))"
      ],
      "metadata": {
        "id": "87GaU6GCqMK4",
        "outputId": "b827efa9-7db9-4dde-d5f4-13d7565a90cf",
        "colab": {
          "base_uri": "https://localhost:8080/"
        }
      },
      "execution_count": 42,
      "outputs": [
        {
          "output_type": "stream",
          "name": "stdout",
          "text": [
            "Salidas del perceptrón:\n",
            "Input 1  Input 2  Combinacion lineal   Target   Output  \n",
            "0        0        -1.0                 0        0       \n",
            "0        1        -0.9                 1        0       \n",
            "1        0        -0.09999999999999998 1        0       \n",
            "1        1        0.0                  1        1       \n"
          ]
        }
      ]
    },
    {
      "cell_type": "code",
      "source": [
        "#Clasificacion como compuerta AND\n",
        "inputs = np.array([[0], [1]])\n",
        "targets = np.array([1,0])\n",
        "outputs = np.zeros(len(targets), dtype=int)\n",
        "weights = np.array([-8])\n",
        "bias = 1"
      ],
      "metadata": {
        "id": "o93HPnnMqfoW"
      },
      "execution_count": 77,
      "outputs": []
    },
    {
      "cell_type": "code",
      "source": [
        "for i in range(targets.shape[0]):\n",
        "  h = np.dot(inputs[i], weights) + bias\n",
        "  outputs[i] = unit_step(h)"
      ],
      "metadata": {
        "id": "-nN5wjPoqyd9"
      },
      "execution_count": 78,
      "outputs": []
    },
    {
      "cell_type": "code",
      "source": [
        "print(\"Salidas del perceptrón:\")\n",
        "print(\"{:<8} {:<20} {:<8} {:<8}\".format('Input 1', 'Combinacion lineal', 'Target', 'Output'))\n",
        "for i in range(2):\n",
        "    input1 = inputs[i][0]\n",
        "    combination = np.dot(inputs[i], weights) + bias\n",
        "    target = targets[i]\n",
        "    output = outputs[i]\n",
        "    print('{:<8} {:<20} {:<8} {:<8}'.format(input1, combination, target, output))"
      ],
      "metadata": {
        "id": "yduFLMExq292",
        "outputId": "6b069ed3-3044-4221-e457-4116fea14d45",
        "colab": {
          "base_uri": "https://localhost:8080/"
        }
      },
      "execution_count": 79,
      "outputs": [
        {
          "output_type": "stream",
          "name": "stdout",
          "text": [
            "Salidas del perceptrón:\n",
            "Input 1  Combinacion lineal   Target   Output  \n",
            "0        1                    1        1       \n",
            "1        -7                   0        0       \n"
          ]
        }
      ]
    }
  ],
  "metadata": {
    "colab": {
      "name": "Te damos la bienvenida a Colaboratory",
      "provenance": [],
      "include_colab_link": true
    },
    "kernelspec": {
      "display_name": "Python 3",
      "name": "python3"
    }
  },
  "nbformat": 4,
  "nbformat_minor": 0
}